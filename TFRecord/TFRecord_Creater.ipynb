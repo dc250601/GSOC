{
 "cells": [
  {
   "cell_type": "code",
   "execution_count": 1,
   "id": "6437feb4",
   "metadata": {},
   "outputs": [],
   "source": [
    "import tensorflow as tf\n",
    "import numpy as np\n",
    "import cv2 as cv\n",
    "import os\n",
    "import random\n",
    "from tqdm.auto import tqdm\n",
    "import matplotlib.pyplot as plt\n",
    "import time"
   ]
  },
  {
   "cell_type": "code",
   "execution_count": 2,
   "id": "9abd4b67",
   "metadata": {},
   "outputs": [],
   "source": [
    "def _image_feature(value):\n",
    "    \"\"\"Returns a bytes_list from a string / byte.\"\"\"\n",
    "    return tf.train.Feature(\n",
    "        bytes_list=tf.train.BytesList(value=[tf.io.encode_png(value,compression=9).numpy()])\n",
    "    )\n",
    "\n",
    "def _int64_feature(value):\n",
    "    \"\"\"Returns an int64_list from a bool / enum / int / uint.\"\"\"\n",
    "    return tf.train.Feature(int64_list=tf.train.Int64List(value=[value]))\n",
    "\n",
    "def _bytes_feature(value):\n",
    "    \"\"\"Returns a bytes_list from a string / byte.\"\"\"\n",
    "    return tf.train.Feature(bytes_list=tf.train.BytesList(value=[value.encode()]))"
   ]
  },
  {
   "cell_type": "code",
   "execution_count": 3,
   "id": "0fc4b89b",
   "metadata": {},
   "outputs": [],
   "source": [
    "base = \"./Quark_Gluon_Mini/Quark_Gluon_Mini/\" \n",
    "os.listdir(base)\n",
    "TRAIN = base + \"Train/\"\n",
    "TEST =  base + \"Test/\" "
   ]
  },
  {
   "cell_type": "code",
   "execution_count": 4,
   "id": "fd64ee65",
   "metadata": {},
   "outputs": [],
   "source": [
    "def lister(path):\n",
    "    zero = path+\"0/\"\n",
    "    one = path+\"1/\"\n",
    "    list_ = []\n",
    "    list_.extend(list(map(lambda x,y:x+y, [zero]*len(os.listdir(zero)) , os.listdir(zero))))\n",
    "    list_.extend(list(map(lambda x,y:x+y, [one]*len(os.listdir(one)) , os.listdir(one))))\n",
    "    random.shuffle(list_)\n",
    "    return list_\n",
    "\n",
    "def investigator(path):\n",
    "    label = int(path.split(\"/\")[-2])\n",
    "    name = path.split(\"/\")[-1]\n",
    "    return label, name\n",
    "\n",
    "def parser(path):\n",
    "    image = 255*plt.imread(path)\n",
    "    image = image.astype(np.uint8)\n",
    "    label,name = investigator(path)\n",
    "    \n",
    "    data = {\n",
    "        'raw_image' : _image_feature(image),\n",
    "        'label' : _int64_feature(label),\n",
    "        'name' : _bytes_feature(name)\n",
    "    }\n",
    "    out = tf.train.Example(features=tf.train.Features(feature=data))\n",
    "    return out\n"
   ]
  },
  {
   "cell_type": "code",
   "execution_count": 5,
   "id": "725e5c7e",
   "metadata": {},
   "outputs": [],
   "source": [
    "def shard_calc(path, no_per_shard = 128):\n",
    "    tot =  len(lister(path))\n",
    "    shards = int(tot/no_per_shard)+1\n",
    "    return shards\n",
    "def convert(path, no_per_shard, shard_name, ini_path = \"\"):\n",
    "    no_shards = shard_calc(path,no_per_shard)\n",
    "    list_ = lister(path)\n",
    "    for i in range(no_shards):\n",
    "        writer = tf.io.TFRecordWriter(f\"./{ini_path}/{shard_name}_shard_{i+1}_of{no_shards}.tfrecords\") \n",
    "        if i != no_shards - 1:\n",
    "            shard_paths = list_[i*no_per_shard:(i+1)*no_per_shard]\n",
    "        else:\n",
    "            shard_paths = list_[i*no_per_shard:]\n",
    "        for path in tqdm(shard_paths):\n",
    "            item = parser(path)\n",
    "            writer.write(item.SerializeToString())\n",
    "        \n",
    "        writer.close()\n",
    "        print(f\"Shard: {shard_name}_shard_{(i+1)}/{no_shards} done, moving to next\")\n",
    "    "
   ]
  },
  {
   "cell_type": "code",
   "execution_count": 6,
   "id": "30c10013",
   "metadata": {},
   "outputs": [
    {
     "data": {
      "application/vnd.jupyter.widget-view+json": {
       "model_id": "c79488da6afe41a69f6482e6b4ca0217",
       "version_major": 2,
       "version_minor": 0
      },
      "text/plain": [
       "  0%|          | 0/10240 [00:00<?, ?it/s]"
      ]
     },
     "metadata": {},
     "output_type": "display_data"
    },
    {
     "name": "stdout",
     "output_type": "stream",
     "text": [
      "Shard: test_shard_1/14 done, moving to next\n"
     ]
    },
    {
     "data": {
      "application/vnd.jupyter.widget-view+json": {
       "model_id": "af12fcec1b944089a2eb4f449f3712ff",
       "version_major": 2,
       "version_minor": 0
      },
      "text/plain": [
       "  0%|          | 0/10240 [00:00<?, ?it/s]"
      ]
     },
     "metadata": {},
     "output_type": "display_data"
    },
    {
     "name": "stdout",
     "output_type": "stream",
     "text": [
      "Shard: test_shard_2/14 done, moving to next\n"
     ]
    },
    {
     "data": {
      "application/vnd.jupyter.widget-view+json": {
       "model_id": "5f97413c144d434ea0b0f09cb8aa7fed",
       "version_major": 2,
       "version_minor": 0
      },
      "text/plain": [
       "  0%|          | 0/10240 [00:00<?, ?it/s]"
      ]
     },
     "metadata": {},
     "output_type": "display_data"
    },
    {
     "name": "stdout",
     "output_type": "stream",
     "text": [
      "Shard: test_shard_3/14 done, moving to next\n"
     ]
    },
    {
     "data": {
      "application/vnd.jupyter.widget-view+json": {
       "model_id": "91b354ed0e764ceba9ea0a59572cafaf",
       "version_major": 2,
       "version_minor": 0
      },
      "text/plain": [
       "  0%|          | 0/10240 [00:00<?, ?it/s]"
      ]
     },
     "metadata": {},
     "output_type": "display_data"
    },
    {
     "name": "stdout",
     "output_type": "stream",
     "text": [
      "Shard: test_shard_4/14 done, moving to next\n"
     ]
    },
    {
     "data": {
      "application/vnd.jupyter.widget-view+json": {
       "model_id": "b7f1385e56a64f0fb8438dfd4ae6aa38",
       "version_major": 2,
       "version_minor": 0
      },
      "text/plain": [
       "  0%|          | 0/10240 [00:00<?, ?it/s]"
      ]
     },
     "metadata": {},
     "output_type": "display_data"
    },
    {
     "name": "stdout",
     "output_type": "stream",
     "text": [
      "Shard: test_shard_5/14 done, moving to next\n"
     ]
    },
    {
     "data": {
      "application/vnd.jupyter.widget-view+json": {
       "model_id": "e5e6e6aa78dd42968e635815458bc77a",
       "version_major": 2,
       "version_minor": 0
      },
      "text/plain": [
       "  0%|          | 0/10240 [00:00<?, ?it/s]"
      ]
     },
     "metadata": {},
     "output_type": "display_data"
    },
    {
     "name": "stdout",
     "output_type": "stream",
     "text": [
      "Shard: test_shard_6/14 done, moving to next\n"
     ]
    },
    {
     "data": {
      "application/vnd.jupyter.widget-view+json": {
       "model_id": "b8c4a79b48e647b6b8a692cc387b0c04",
       "version_major": 2,
       "version_minor": 0
      },
      "text/plain": [
       "  0%|          | 0/10240 [00:00<?, ?it/s]"
      ]
     },
     "metadata": {},
     "output_type": "display_data"
    },
    {
     "name": "stdout",
     "output_type": "stream",
     "text": [
      "Shard: test_shard_7/14 done, moving to next\n"
     ]
    },
    {
     "data": {
      "application/vnd.jupyter.widget-view+json": {
       "model_id": "4dd8f59c566d40e38d56c02253d24a59",
       "version_major": 2,
       "version_minor": 0
      },
      "text/plain": [
       "  0%|          | 0/10240 [00:00<?, ?it/s]"
      ]
     },
     "metadata": {},
     "output_type": "display_data"
    },
    {
     "name": "stdout",
     "output_type": "stream",
     "text": [
      "Shard: test_shard_8/14 done, moving to next\n"
     ]
    },
    {
     "data": {
      "application/vnd.jupyter.widget-view+json": {
       "model_id": "2044770db6aa412ca84ad8994dbf6ed0",
       "version_major": 2,
       "version_minor": 0
      },
      "text/plain": [
       "  0%|          | 0/10240 [00:00<?, ?it/s]"
      ]
     },
     "metadata": {},
     "output_type": "display_data"
    },
    {
     "name": "stdout",
     "output_type": "stream",
     "text": [
      "Shard: test_shard_9/14 done, moving to next\n"
     ]
    },
    {
     "data": {
      "application/vnd.jupyter.widget-view+json": {
       "model_id": "796713b84f9645819b14d53d8caef2ec",
       "version_major": 2,
       "version_minor": 0
      },
      "text/plain": [
       "  0%|          | 0/10240 [00:00<?, ?it/s]"
      ]
     },
     "metadata": {},
     "output_type": "display_data"
    },
    {
     "name": "stdout",
     "output_type": "stream",
     "text": [
      "Shard: test_shard_10/14 done, moving to next\n"
     ]
    },
    {
     "data": {
      "application/vnd.jupyter.widget-view+json": {
       "model_id": "c5c56c244fc24ed0a362b0c966119b9f",
       "version_major": 2,
       "version_minor": 0
      },
      "text/plain": [
       "  0%|          | 0/10240 [00:00<?, ?it/s]"
      ]
     },
     "metadata": {},
     "output_type": "display_data"
    },
    {
     "name": "stdout",
     "output_type": "stream",
     "text": [
      "Shard: test_shard_11/14 done, moving to next\n"
     ]
    },
    {
     "data": {
      "application/vnd.jupyter.widget-view+json": {
       "model_id": "a543b360962b4bf1b0e4b3cbf96deecc",
       "version_major": 2,
       "version_minor": 0
      },
      "text/plain": [
       "  0%|          | 0/10240 [00:00<?, ?it/s]"
      ]
     },
     "metadata": {},
     "output_type": "display_data"
    },
    {
     "name": "stdout",
     "output_type": "stream",
     "text": [
      "Shard: test_shard_12/14 done, moving to next\n"
     ]
    },
    {
     "data": {
      "application/vnd.jupyter.widget-view+json": {
       "model_id": "aad92b893676439dab2e453b8a3e38c4",
       "version_major": 2,
       "version_minor": 0
      },
      "text/plain": [
       "  0%|          | 0/10240 [00:00<?, ?it/s]"
      ]
     },
     "metadata": {},
     "output_type": "display_data"
    },
    {
     "name": "stdout",
     "output_type": "stream",
     "text": [
      "Shard: test_shard_13/14 done, moving to next\n"
     ]
    },
    {
     "data": {
      "application/vnd.jupyter.widget-view+json": {
       "model_id": "0710bbe05c124e0d8cdcdb986364c879",
       "version_major": 2,
       "version_minor": 0
      },
      "text/plain": [
       "  0%|          | 0/6186 [00:00<?, ?it/s]"
      ]
     },
     "metadata": {},
     "output_type": "display_data"
    },
    {
     "name": "stdout",
     "output_type": "stream",
     "text": [
      "Shard: test_shard_14/14 done, moving to next\n"
     ]
    }
   ],
   "source": [
    "\n",
    "shard_calc(\"./Test/Test/\", no_per_shard=10240)\n",
    "convert(path=\"./Test/Test/\", no_per_shard=10240,shard_name= \"test\",ini_path = \"Test1\")"
   ]
  }
 ],
 "metadata": {
  "kernelspec": {
   "display_name": "Python 3",
   "language": "python",
   "name": "python3"
  },
  "language_info": {
   "codemirror_mode": {
    "name": "ipython",
    "version": 3
   },
   "file_extension": ".py",
   "mimetype": "text/x-python",
   "name": "python",
   "nbconvert_exporter": "python",
   "pygments_lexer": "ipython3",
   "version": "3.8.8"
  }
 },
 "nbformat": 4,
 "nbformat_minor": 5
}
