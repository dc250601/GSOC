{
 "cells": [
  {
   "cell_type": "code",
   "execution_count": 1,
   "id": "4e771f82",
   "metadata": {},
   "outputs": [
    {
     "name": "stderr",
     "output_type": "stream",
     "text": [
      "C:\\Users\\cdipt\\anaconda3\\lib\\site-packages\\numpy\\_distributor_init.py:30: UserWarning: loaded more than 1 DLL from .libs:\n",
      "C:\\Users\\cdipt\\anaconda3\\lib\\site-packages\\numpy\\.libs\\libopenblas.FB5AE2TYXYH2IJRDKGDGQ3XBKLKTF43H.gfortran-win_amd64.dll\n",
      "C:\\Users\\cdipt\\anaconda3\\lib\\site-packages\\numpy\\.libs\\libopenblas.PYQHXLVVQ7VESDPUVUADXEVJOBGHJPAY.gfortran-win_amd64.dll\n",
      "C:\\Users\\cdipt\\anaconda3\\lib\\site-packages\\numpy\\.libs\\libopenblas.WCDJNK7YVMPZQ2ME2ZZHJJRJ3JIKNDB7.gfortran-win_amd64.dll\n",
      "  warnings.warn(\"loaded more than 1 DLL from .libs:\"\n"
     ]
    }
   ],
   "source": [
    "import numpy as np\n",
    "import os\n",
    "import Top_Quark.top_parquet_to_tfrecords as gen"
   ]
  },
  {
   "cell_type": "code",
   "execution_count": 2,
   "id": "9517c1d6",
   "metadata": {},
   "outputs": [],
   "source": [
    "source = \"D://Test_pad/data/\"\n",
    "target = \"D://Test_pad/output/\""
   ]
  },
  {
   "cell_type": "code",
   "execution_count": null,
   "id": "be3d3ba6",
   "metadata": {},
   "outputs": [
    {
     "name": "stdout",
     "output_type": "stream",
     "text": [
      "Got the following files in the source folder\n",
      "['D://Test_pad/data\\\\BoostedTop_x1_fixed_0.snappy - Copy (2).parquet', 'D://Test_pad/data\\\\BoostedTop_x1_fixed_0.snappy - Copy (3).parquet', 'D://Test_pad/data\\\\BoostedTop_x1_fixed_0.snappy - Copy (4).parquet', 'D://Test_pad/data\\\\BoostedTop_x1_fixed_0.snappy - Copy (5).parquet', 'D://Test_pad/data\\\\BoostedTop_x1_fixed_0.snappy - Copy (6).parquet', 'D://Test_pad/data\\\\BoostedTop_x1_fixed_0.snappy - Copy (7).parquet', 'D://Test_pad/data\\\\BoostedTop_x1_fixed_0.snappy - Copy (8).parquet', 'D://Test_pad/data\\\\BoostedTop_x1_fixed_0.snappy - Copy (9).parquet', 'D://Test_pad/data\\\\BoostedTop_x1_fixed_0.snappy - Copy.parquet', 'D://Test_pad/data\\\\BoostedTop_x1_fixed_0.snappy.parquet']\n"
     ]
    },
    {
     "data": {
      "application/vnd.jupyter.widget-view+json": {
       "model_id": "e8cc4372627246029d49e259413b0e27",
       "version_major": 2,
       "version_minor": 0
      },
      "text/plain": [
       "  0%|          | 0/10 [00:00<?, ?it/s]"
      ]
     },
     "metadata": {},
     "output_type": "display_data"
    },
    {
     "name": "stderr",
     "output_type": "stream",
     "text": [
      "C:\\Users\\cdipt\\anaconda3\\lib\\site-packages\\cupy\\_creation\\from_data.py:41: PerformanceWarning: Using synchronous transfer as pinned memory (3200000000 bytes) could not be allocated. This generally occurs because of insufficient host memory. The original error was: cudaErrorMemoryAllocation: out of memory\n",
      "  return core.array(obj, dtype, copy, order, subok, ndmin)\n"
     ]
    }
   ],
   "source": [
    "gen.runner(source=source, target=target)"
   ]
  }
 ],
 "metadata": {
  "kernelspec": {
   "display_name": "Python 3",
   "language": "python",
   "name": "python3"
  },
  "language_info": {
   "codemirror_mode": {
    "name": "ipython",
    "version": 3
   },
   "file_extension": ".py",
   "mimetype": "text/x-python",
   "name": "python",
   "nbconvert_exporter": "python",
   "pygments_lexer": "ipython3",
   "version": "3.8.8"
  }
 },
 "nbformat": 4,
 "nbformat_minor": 5
}
