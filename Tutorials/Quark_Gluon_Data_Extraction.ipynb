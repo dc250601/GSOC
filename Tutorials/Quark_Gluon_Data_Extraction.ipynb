{
  "nbformat": 4,
  "nbformat_minor": 0,
  "metadata": {
    "colab": {
      "provenance": [],
      "collapsed_sections": []
    },
    "kernelspec": {
      "name": "python3",
      "display_name": "Python 3"
    },
    "language_info": {
      "name": "python"
    }
  },
  "cells": [
    {
      "cell_type": "markdown",
      "source": [
        "### This code is to get the data files for training the Quark Gluon models.\n",
        "This code converts the ParquetFiles containing the Quark Gluon dataset to a .png based dataset."
      ],
      "metadata": {
        "id": "IYTNssRGxSQg"
      }
    },
    {
      "cell_type": "code",
      "source": [
        "from google.colab import drive\n",
        "drive.mount('/content/drive')"
      ],
      "metadata": {
        "colab": {
          "base_uri": "https://localhost:8080/"
        },
        "id": "xiNW5GG_xp18",
        "outputId": "f72e9e44-e405-4497-bd0c-f750b347042b"
      },
      "execution_count": 1,
      "outputs": [
        {
          "output_type": "stream",
          "name": "stdout",
          "text": [
            "Mounted at /content/drive\n"
          ]
        }
      ]
    },
    {
      "cell_type": "markdown",
      "source": [
        "### The following code downloads the Package and makes it ready to use.\n"
      ],
      "metadata": {
        "id": "lnsLMOcwyMJO"
      }
    },
    {
      "cell_type": "code",
      "source": [
        "!git clone https://github.com/dc250601/GSOC.git\n",
        "%mv GSOC Transformers\n",
        "%mkdir Data"
      ],
      "metadata": {
        "colab": {
          "base_uri": "https://localhost:8080/"
        },
        "id": "EOqSWhtOyHss",
        "outputId": "e32af6d1-ac76-4bda-9574-2b29cb6f69bc"
      },
      "execution_count": 2,
      "outputs": [
        {
          "output_type": "stream",
          "name": "stdout",
          "text": [
            "Cloning into 'GSOC'...\n",
            "remote: Enumerating objects: 241, done.\u001b[K\n",
            "remote: Counting objects: 100% (241/241), done.\u001b[K\n",
            "remote: Compressing objects: 100% (178/178), done.\u001b[K\n",
            "remote: Total 241 (delta 86), reused 179 (delta 45), pack-reused 0\u001b[K\n",
            "Receiving objects: 100% (241/241), 519.13 KiB | 4.47 MiB/s, done.\n",
            "Resolving deltas: 100% (86/86), done.\n"
          ]
        }
      ]
    },
    {
      "cell_type": "markdown",
      "source": [
        "### Downloading the relevant datasets."
      ],
      "metadata": {
        "id": "PoP30cVm0F8N"
      }
    },
    {
      "cell_type": "code",
      "source": [
        "import gdown\n",
        "gdown.download_folder('https://drive.google.com/drive/folders/1sq6vxfOFBGhoAx7c_3vHQvjev7Uok_eq')"
      ],
      "metadata": {
        "id": "sC9JpJ_y0CX-",
        "colab": {
          "base_uri": "https://localhost:8080/"
        },
        "outputId": "044f6437-fb6a-42c4-a85c-8aa0825e6204"
      },
      "execution_count": 3,
      "outputs": [
        {
          "output_type": "stream",
          "name": "stderr",
          "text": [
            "Retrieving folder list\n"
          ]
        },
        {
          "output_type": "stream",
          "name": "stdout",
          "text": [
            "Processing file 1aCUe7__bniQrI3f2_1cJZtVE6tJpqUYQ QCDToGGQQ_IMGjet_RH1all_jet0_run0_n36272.test.snappy.parquet\n",
            "Processing file 1rfweMJ-yB5SznVZKQSkVNoRADlARoqeM QCDToGGQQ_IMGjet_RH1all_jet0_run0_n215556.train.snappy.parquet\n",
            "Processing file 1QnfGOuP9qkbPcmJ8EP6FVFcMwWTKAO9W QCDToGGQQ_IMGjet_RH1all_jet0_run1_n47540.test.snappy.parquet\n",
            "Processing file 1WU83wyuCR2hTI7v_H0HQUhI4ZJmtZLyy QCDToGGQQ_IMGjet_RH1all_jet0_run1_n297980.train.snappy.parquet\n",
            "Processing file 1NvE2GY4s8Yh4Ng-O8ytjgelfWa8KCDI9 QCDToGGQQ_IMGjet_RH1all_jet0_run2_n55494.test.snappy.parquet\n",
            "Processing file 1jT9M6_-76rem5OzOReR7r59hDsGch_jQ QCDToGGQQ_IMGjet_RH1all_jet0_run2_n280364.train.snappy.parquet\n",
            "Building directory structure completed\n"
          ]
        },
        {
          "output_type": "stream",
          "name": "stderr",
          "text": [
            "Retrieving folder list completed\n",
            "Building directory structure\n",
            "Downloading...\n",
            "From: https://drive.google.com/uc?id=1aCUe7__bniQrI3f2_1cJZtVE6tJpqUYQ\n",
            "To: /content/Qg_parquet/QCDToGGQQ_IMGjet_RH1all_jet0_run0_n36272.test.snappy.parquet\n",
            "100%|██████████| 184M/184M [00:01<00:00, 168MB/s]\n",
            "Downloading...\n",
            "From: https://drive.google.com/uc?id=1rfweMJ-yB5SznVZKQSkVNoRADlARoqeM\n",
            "To: /content/Qg_parquet/QCDToGGQQ_IMGjet_RH1all_jet0_run0_n215556.train.snappy.parquet\n",
            "100%|██████████| 1.10G/1.10G [00:06<00:00, 173MB/s]\n",
            "Downloading...\n",
            "From: https://drive.google.com/uc?id=1QnfGOuP9qkbPcmJ8EP6FVFcMwWTKAO9W\n",
            "To: /content/Qg_parquet/QCDToGGQQ_IMGjet_RH1all_jet0_run1_n47540.test.snappy.parquet\n",
            "100%|██████████| 239M/239M [00:01<00:00, 156MB/s]\n",
            "Downloading...\n",
            "From: https://drive.google.com/uc?id=1WU83wyuCR2hTI7v_H0HQUhI4ZJmtZLyy\n",
            "To: /content/Qg_parquet/QCDToGGQQ_IMGjet_RH1all_jet0_run1_n297980.train.snappy.parquet\n",
            "100%|██████████| 1.50G/1.50G [00:10<00:00, 150MB/s]\n",
            "Downloading...\n",
            "From: https://drive.google.com/uc?id=1NvE2GY4s8Yh4Ng-O8ytjgelfWa8KCDI9\n",
            "To: /content/Qg_parquet/QCDToGGQQ_IMGjet_RH1all_jet0_run2_n55494.test.snappy.parquet\n",
            "100%|██████████| 301M/301M [00:02<00:00, 150MB/s]\n",
            "Downloading...\n",
            "From: https://drive.google.com/uc?id=1jT9M6_-76rem5OzOReR7r59hDsGch_jQ\n",
            "To: /content/Qg_parquet/QCDToGGQQ_IMGjet_RH1all_jet0_run2_n280364.train.snappy.parquet\n",
            "100%|██████████| 1.52G/1.52G [00:09<00:00, 164MB/s]\n",
            "Download completed\n"
          ]
        },
        {
          "output_type": "execute_result",
          "data": {
            "text/plain": [
              "['/content/Qg_parquet/QCDToGGQQ_IMGjet_RH1all_jet0_run0_n36272.test.snappy.parquet',\n",
              " '/content/Qg_parquet/QCDToGGQQ_IMGjet_RH1all_jet0_run0_n215556.train.snappy.parquet',\n",
              " '/content/Qg_parquet/QCDToGGQQ_IMGjet_RH1all_jet0_run1_n47540.test.snappy.parquet',\n",
              " '/content/Qg_parquet/QCDToGGQQ_IMGjet_RH1all_jet0_run1_n297980.train.snappy.parquet',\n",
              " '/content/Qg_parquet/QCDToGGQQ_IMGjet_RH1all_jet0_run2_n55494.test.snappy.parquet',\n",
              " '/content/Qg_parquet/QCDToGGQQ_IMGjet_RH1all_jet0_run2_n280364.train.snappy.parquet']"
            ]
          },
          "metadata": {},
          "execution_count": 3
        }
      ]
    },
    {
      "cell_type": "code",
      "source": [
        "%cd Transformers\n",
        "%cd Data-Generation"
      ],
      "metadata": {
        "colab": {
          "base_uri": "https://localhost:8080/"
        },
        "id": "fRKJxd44aeh_",
        "outputId": "c999d19e-16a8-4ed6-c802-ef21bf657777"
      },
      "execution_count": 4,
      "outputs": [
        {
          "output_type": "stream",
          "name": "stdout",
          "text": [
            "/content/Transformers\n",
            "/content/Transformers/Data-Generation\n"
          ]
        }
      ]
    },
    {
      "cell_type": "markdown",
      "source": [
        "#### Separating the Test and Train Files"
      ],
      "metadata": {
        "id": "SAvRfJqGcTcU"
      }
    },
    {
      "cell_type": "code",
      "source": [
        "import os\n",
        "%mkdir /content/Qg_parquet/Train\n",
        "%mkdir /content/Qg_parquet/Test\n",
        "%mkdir /content/Data/Test\n",
        "%mkdir /content/Data/Train"
      ],
      "metadata": {
        "id": "FPwGVHP9bwE2"
      },
      "execution_count": 12,
      "outputs": []
    },
    {
      "cell_type": "code",
      "source": [
        "%mv /content/Qg_parquet/QCDToGGQQ_IMGjet_RH1all_jet0_run0_n215556.train.snappy.parquet /content/Qg_parquet/Train/QCDToGGQQ_IMGjet_RH1all_jet0_run0_n215556.train.snappy.parquet\n",
        "%mv /content/Qg_parquet/QCDToGGQQ_IMGjet_RH1all_jet0_run2_n280364.train.snappy.parquet /content/Qg_parquet/Train/QCDToGGQQ_IMGjet_RH1all_jet0_run2_n280364.train.snappy.parquet\n",
        "%mv /content/Qg_parquet/QCDToGGQQ_IMGjet_RH1all_jet0_run1_n297980.train.snappy.parquet /content/Qg_parquet/Train/QCDToGGQQ_IMGjet_RH1all_jet0_run1_n297980.train.snappy.parquet\n",
        "%mv /content/Qg_parquet/QCDToGGQQ_IMGjet_RH1all_jet0_run0_n36272.test.snappy.parquet /content/Qg_parquet/Test/QCDToGGQQ_IMGjet_RH1all_jet0_run0_n36272.test.snappy.parquet\n",
        "%mv /content/Qg_parquet/QCDToGGQQ_IMGjet_RH1all_jet0_run1_n47540.test.snappy.parquet /content/Qg_parquet/Test/QCDToGGQQ_IMGjet_RH1all_jet0_run1_n47540.test.snappy.parquet\n",
        "%mv /content/Qg_parquet/QCDToGGQQ_IMGjet_RH1all_jet0_run2_n55494.test.snappy.parquet /content/Qg_parquet/Test/QCDToGGQQ_IMGjet_RH1all_jet0_run2_n55494.test.snappy.parquet"
      ],
      "metadata": {
        "id": "GQ8Zdxdxck1s"
      },
      "execution_count": 10,
      "outputs": []
    },
    {
      "cell_type": "markdown",
      "source": [
        "#### Generating the dataset !!!"
      ],
      "metadata": {
        "id": "StFGb0qgenyI"
      }
    },
    {
      "cell_type": "code",
      "source": [
        "import Quark_Gluon.generator as generator\n",
        "# This code will take some time to run.\n",
        "generator.runner(source = \"/content/Qg_parquet/Test\", target = \"/content/Data/Test\")\n",
        "generator.runner(source = \"/content/Qg_parquet/Train\", target = \"/content/Data/Train\")\n"
      ],
      "metadata": {
        "id": "Skn49buTaicY"
      },
      "execution_count": null,
      "outputs": []
    }
  ]
}