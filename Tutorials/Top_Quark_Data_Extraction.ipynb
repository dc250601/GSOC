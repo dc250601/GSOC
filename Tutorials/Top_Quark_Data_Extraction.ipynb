{
  "nbformat": 4,
  "nbformat_minor": 0,
  "metadata": {
    "colab": {
      "provenance": [],
      "collapsed_sections": []
    },
    "kernelspec": {
      "name": "python3",
      "display_name": "Python 3"
    },
    "language_info": {
      "name": "python"
    },
    "accelerator": "GPU",
    "widgets": {
      "application/vnd.jupyter.widget-state+json": {
        "ac58c87b8ff54f5aab7487045b4298f7": {
          "model_module": "@jupyter-widgets/controls",
          "model_name": "HBoxModel",
          "model_module_version": "1.5.0",
          "state": {
            "_dom_classes": [],
            "_model_module": "@jupyter-widgets/controls",
            "_model_module_version": "1.5.0",
            "_model_name": "HBoxModel",
            "_view_count": null,
            "_view_module": "@jupyter-widgets/controls",
            "_view_module_version": "1.5.0",
            "_view_name": "HBoxView",
            "box_style": "",
            "children": [
              "IPY_MODEL_3bcab7027f8541d8be8826fd7c1dfa99",
              "IPY_MODEL_f599fac45a6648299a374dcad683dcc7",
              "IPY_MODEL_ac3455412bf44603ba10619e70dc0f35"
            ],
            "layout": "IPY_MODEL_e71afb89f2c14441b990dbe4b7eff6f8"
          }
        },
        "3bcab7027f8541d8be8826fd7c1dfa99": {
          "model_module": "@jupyter-widgets/controls",
          "model_name": "HTMLModel",
          "model_module_version": "1.5.0",
          "state": {
            "_dom_classes": [],
            "_model_module": "@jupyter-widgets/controls",
            "_model_module_version": "1.5.0",
            "_model_name": "HTMLModel",
            "_view_count": null,
            "_view_module": "@jupyter-widgets/controls",
            "_view_module_version": "1.5.0",
            "_view_name": "HTMLView",
            "description": "",
            "description_tooltip": null,
            "layout": "IPY_MODEL_78159250806e44df9f673886e3fd80a4",
            "placeholder": "​",
            "style": "IPY_MODEL_c5853286e787491d8107f006acd7973a",
            "value": "100%"
          }
        },
        "f599fac45a6648299a374dcad683dcc7": {
          "model_module": "@jupyter-widgets/controls",
          "model_name": "FloatProgressModel",
          "model_module_version": "1.5.0",
          "state": {
            "_dom_classes": [],
            "_model_module": "@jupyter-widgets/controls",
            "_model_module_version": "1.5.0",
            "_model_name": "FloatProgressModel",
            "_view_count": null,
            "_view_module": "@jupyter-widgets/controls",
            "_view_module_version": "1.5.0",
            "_view_name": "ProgressView",
            "bar_style": "success",
            "description": "",
            "description_tooltip": null,
            "layout": "IPY_MODEL_5a6632a59d4b4f7e8e9e045c7037139d",
            "max": 10,
            "min": 0,
            "orientation": "horizontal",
            "style": "IPY_MODEL_094b2d8a34ed41268d0379412ffd0a4f",
            "value": 10
          }
        },
        "ac3455412bf44603ba10619e70dc0f35": {
          "model_module": "@jupyter-widgets/controls",
          "model_name": "HTMLModel",
          "model_module_version": "1.5.0",
          "state": {
            "_dom_classes": [],
            "_model_module": "@jupyter-widgets/controls",
            "_model_module_version": "1.5.0",
            "_model_name": "HTMLModel",
            "_view_count": null,
            "_view_module": "@jupyter-widgets/controls",
            "_view_module_version": "1.5.0",
            "_view_name": "HTMLView",
            "description": "",
            "description_tooltip": null,
            "layout": "IPY_MODEL_9b0917529a324683b186b4ed2b896984",
            "placeholder": "​",
            "style": "IPY_MODEL_4dab989694734edfa3fcf5e09a38f5ce",
            "value": " 10/10 [09:36&lt;00:00, 56.93s/it]"
          }
        },
        "e71afb89f2c14441b990dbe4b7eff6f8": {
          "model_module": "@jupyter-widgets/base",
          "model_name": "LayoutModel",
          "model_module_version": "1.2.0",
          "state": {
            "_model_module": "@jupyter-widgets/base",
            "_model_module_version": "1.2.0",
            "_model_name": "LayoutModel",
            "_view_count": null,
            "_view_module": "@jupyter-widgets/base",
            "_view_module_version": "1.2.0",
            "_view_name": "LayoutView",
            "align_content": null,
            "align_items": null,
            "align_self": null,
            "border": null,
            "bottom": null,
            "display": null,
            "flex": null,
            "flex_flow": null,
            "grid_area": null,
            "grid_auto_columns": null,
            "grid_auto_flow": null,
            "grid_auto_rows": null,
            "grid_column": null,
            "grid_gap": null,
            "grid_row": null,
            "grid_template_areas": null,
            "grid_template_columns": null,
            "grid_template_rows": null,
            "height": null,
            "justify_content": null,
            "justify_items": null,
            "left": null,
            "margin": null,
            "max_height": null,
            "max_width": null,
            "min_height": null,
            "min_width": null,
            "object_fit": null,
            "object_position": null,
            "order": null,
            "overflow": null,
            "overflow_x": null,
            "overflow_y": null,
            "padding": null,
            "right": null,
            "top": null,
            "visibility": null,
            "width": null
          }
        },
        "78159250806e44df9f673886e3fd80a4": {
          "model_module": "@jupyter-widgets/base",
          "model_name": "LayoutModel",
          "model_module_version": "1.2.0",
          "state": {
            "_model_module": "@jupyter-widgets/base",
            "_model_module_version": "1.2.0",
            "_model_name": "LayoutModel",
            "_view_count": null,
            "_view_module": "@jupyter-widgets/base",
            "_view_module_version": "1.2.0",
            "_view_name": "LayoutView",
            "align_content": null,
            "align_items": null,
            "align_self": null,
            "border": null,
            "bottom": null,
            "display": null,
            "flex": null,
            "flex_flow": null,
            "grid_area": null,
            "grid_auto_columns": null,
            "grid_auto_flow": null,
            "grid_auto_rows": null,
            "grid_column": null,
            "grid_gap": null,
            "grid_row": null,
            "grid_template_areas": null,
            "grid_template_columns": null,
            "grid_template_rows": null,
            "height": null,
            "justify_content": null,
            "justify_items": null,
            "left": null,
            "margin": null,
            "max_height": null,
            "max_width": null,
            "min_height": null,
            "min_width": null,
            "object_fit": null,
            "object_position": null,
            "order": null,
            "overflow": null,
            "overflow_x": null,
            "overflow_y": null,
            "padding": null,
            "right": null,
            "top": null,
            "visibility": null,
            "width": null
          }
        },
        "c5853286e787491d8107f006acd7973a": {
          "model_module": "@jupyter-widgets/controls",
          "model_name": "DescriptionStyleModel",
          "model_module_version": "1.5.0",
          "state": {
            "_model_module": "@jupyter-widgets/controls",
            "_model_module_version": "1.5.0",
            "_model_name": "DescriptionStyleModel",
            "_view_count": null,
            "_view_module": "@jupyter-widgets/base",
            "_view_module_version": "1.2.0",
            "_view_name": "StyleView",
            "description_width": ""
          }
        },
        "5a6632a59d4b4f7e8e9e045c7037139d": {
          "model_module": "@jupyter-widgets/base",
          "model_name": "LayoutModel",
          "model_module_version": "1.2.0",
          "state": {
            "_model_module": "@jupyter-widgets/base",
            "_model_module_version": "1.2.0",
            "_model_name": "LayoutModel",
            "_view_count": null,
            "_view_module": "@jupyter-widgets/base",
            "_view_module_version": "1.2.0",
            "_view_name": "LayoutView",
            "align_content": null,
            "align_items": null,
            "align_self": null,
            "border": null,
            "bottom": null,
            "display": null,
            "flex": null,
            "flex_flow": null,
            "grid_area": null,
            "grid_auto_columns": null,
            "grid_auto_flow": null,
            "grid_auto_rows": null,
            "grid_column": null,
            "grid_gap": null,
            "grid_row": null,
            "grid_template_areas": null,
            "grid_template_columns": null,
            "grid_template_rows": null,
            "height": null,
            "justify_content": null,
            "justify_items": null,
            "left": null,
            "margin": null,
            "max_height": null,
            "max_width": null,
            "min_height": null,
            "min_width": null,
            "object_fit": null,
            "object_position": null,
            "order": null,
            "overflow": null,
            "overflow_x": null,
            "overflow_y": null,
            "padding": null,
            "right": null,
            "top": null,
            "visibility": null,
            "width": null
          }
        },
        "094b2d8a34ed41268d0379412ffd0a4f": {
          "model_module": "@jupyter-widgets/controls",
          "model_name": "ProgressStyleModel",
          "model_module_version": "1.5.0",
          "state": {
            "_model_module": "@jupyter-widgets/controls",
            "_model_module_version": "1.5.0",
            "_model_name": "ProgressStyleModel",
            "_view_count": null,
            "_view_module": "@jupyter-widgets/base",
            "_view_module_version": "1.2.0",
            "_view_name": "StyleView",
            "bar_color": null,
            "description_width": ""
          }
        },
        "9b0917529a324683b186b4ed2b896984": {
          "model_module": "@jupyter-widgets/base",
          "model_name": "LayoutModel",
          "model_module_version": "1.2.0",
          "state": {
            "_model_module": "@jupyter-widgets/base",
            "_model_module_version": "1.2.0",
            "_model_name": "LayoutModel",
            "_view_count": null,
            "_view_module": "@jupyter-widgets/base",
            "_view_module_version": "1.2.0",
            "_view_name": "LayoutView",
            "align_content": null,
            "align_items": null,
            "align_self": null,
            "border": null,
            "bottom": null,
            "display": null,
            "flex": null,
            "flex_flow": null,
            "grid_area": null,
            "grid_auto_columns": null,
            "grid_auto_flow": null,
            "grid_auto_rows": null,
            "grid_column": null,
            "grid_gap": null,
            "grid_row": null,
            "grid_template_areas": null,
            "grid_template_columns": null,
            "grid_template_rows": null,
            "height": null,
            "justify_content": null,
            "justify_items": null,
            "left": null,
            "margin": null,
            "max_height": null,
            "max_width": null,
            "min_height": null,
            "min_width": null,
            "object_fit": null,
            "object_position": null,
            "order": null,
            "overflow": null,
            "overflow_x": null,
            "overflow_y": null,
            "padding": null,
            "right": null,
            "top": null,
            "visibility": null,
            "width": null
          }
        },
        "4dab989694734edfa3fcf5e09a38f5ce": {
          "model_module": "@jupyter-widgets/controls",
          "model_name": "DescriptionStyleModel",
          "model_module_version": "1.5.0",
          "state": {
            "_model_module": "@jupyter-widgets/controls",
            "_model_module_version": "1.5.0",
            "_model_name": "DescriptionStyleModel",
            "_view_count": null,
            "_view_module": "@jupyter-widgets/base",
            "_view_module_version": "1.2.0",
            "_view_name": "StyleView",
            "description_width": ""
          }
        }
      }
    }
  },
  "cells": [
    {
      "cell_type": "markdown",
      "source": [
        "## Top_Quark Data preparation notebook\n",
        "This Notebook is a bit more convoluted than the notebook on Quark-Gluon due to the presence of more computationally intensive 8 Channels for every sample\n",
        "This Notebook needs access to a GPU, please turn on the HARDWARE_ACCELERATOR and set it to GPU mode."
      ],
      "metadata": {
        "id": "DyoWiGTamRzN"
      }
    },
    {
      "cell_type": "code",
      "source": [
        "from google.colab import drive\n",
        "drive.mount('/content/drive')"
      ],
      "metadata": {
        "colab": {
          "base_uri": "https://localhost:8080/"
        },
        "id": "_pdpNUJwnB16",
        "outputId": "f48f8547-e125-4635-eb45-689c9cc238de"
      },
      "execution_count": 1,
      "outputs": [
        {
          "output_type": "stream",
          "name": "stdout",
          "text": [
            "Mounted at /content/drive\n"
          ]
        }
      ]
    },
    {
      "cell_type": "markdown",
      "source": [
        "### The following code downloads the Package and makes it ready to use."
      ],
      "metadata": {
        "id": "IzyoH4jFnJ12"
      }
    },
    {
      "cell_type": "code",
      "source": [
        "!git clone https://github.com/dc250601/GSOC.git\n",
        "%mv GSOC Transformers\n",
        "%mkdir Data"
      ],
      "metadata": {
        "colab": {
          "base_uri": "https://localhost:8080/"
        },
        "id": "wdDZT9pGnFc7",
        "outputId": "f953ed5c-79be-4d3b-8fda-e299ac35d481"
      },
      "execution_count": 2,
      "outputs": [
        {
          "output_type": "stream",
          "name": "stdout",
          "text": [
            "Cloning into 'GSOC'...\n",
            "remote: Enumerating objects: 246, done.\u001b[K\n",
            "remote: Counting objects: 100% (246/246), done.\u001b[K\n",
            "remote: Compressing objects: 100% (180/180), done.\u001b[K\n",
            "remote: Total 246 (delta 88), reused 185 (delta 47), pack-reused 0\u001b[K\n",
            "Receiving objects: 100% (246/246), 519.50 KiB | 9.28 MiB/s, done.\n",
            "Resolving deltas: 100% (88/88), done.\n"
          ]
        }
      ]
    },
    {
      "cell_type": "markdown",
      "source": [
        "### Downloading the relevant datasets."
      ],
      "metadata": {
        "id": "oQd-evnXnTVz"
      }
    },
    {
      "cell_type": "code",
      "source": [
        "%cd Data\n",
        "import gdown\n",
        "gdown.download_folder(\"https://drive.google.com/drive/folders/1CMs74Aon0KYw8hn6aMEP8BfIhGa-K3Y7\")#Only a small part of the dataset is used here for demonstration purposes.\n",
        "#The link to the entire dataset is \n",
        "#https://drive.google.com/drive/folders/15HVZ8dsBnmBZmSOHkxhVccy68R2prqo5 \n",
        "# The original dataset is composed of over 44 GB worth of datafiles so the kernel might crash, use with caution "
      ],
      "metadata": {
        "colab": {
          "base_uri": "https://localhost:8080/"
        },
        "id": "Fz1RfsvMnOrG",
        "outputId": "054ff2b8-e685-4f83-d08c-f97e25cbd5a2"
      },
      "execution_count": 3,
      "outputs": [
        {
          "output_type": "stream",
          "name": "stdout",
          "text": [
            "/content/Data\n"
          ]
        },
        {
          "output_type": "stream",
          "name": "stderr",
          "text": [
            "Retrieving folder list\n"
          ]
        },
        {
          "output_type": "stream",
          "name": "stdout",
          "text": [
            "Processing file 14aNeNmdjtt6GaPQufODgTwCwfC-MgDOX BoostedTop_x1_fixed_0.snappy.parquet\n",
            "Processing file 1SwHJPdGOQHYIf2HvVQC9dCWHaioiVL-n BoostedTop_x1_fixed_1.snappy.parquet\n",
            "Processing file 1TTLc2DsnPo1c4B2CBRbBHsbgubUlxFow BoostedTop_x1_fixed_2.snappy.parquet\n",
            "Processing file 13JgJs_Nh929I3ILB3XyCq1Yqvlv7PWBT BoostedTop_x1_fixed_3.snappy.parquet\n",
            "Processing file 108hd3WYczbIl2FOpUMz7mVpkR1fIaB6O BoostedTop_x1_fixed_4.snappy.parquet\n",
            "Processing file 1GxfcLaVavsAVYyznPE2N0bEV-xTKXZXf BoostedTop_x1_fixed_5.snappy.parquet\n",
            "Processing file 1NjwpztEKp4E8S2ZmU80BMZjUtECpK0Kg BoostedTop_x1_fixed_6.snappy.parquet\n",
            "Processing file 1eBe3GkPRNV4n6e0Lq_FZoUCOp5bL0nOZ BoostedTop_x1_fixed_7.snappy.parquet\n",
            "Processing file 1P35ZvIhv0E9TJCWemPwY8_gpxKYuji5k BoostedTop_x1_fixed_8.snappy.parquet\n",
            "Processing file 1yrsWwJFoJUfLPtdZRmAnKY8LuAH-VGRR BoostedTop_x1_fixed_9.snappy.parquet\n",
            "Building directory structure completed\n"
          ]
        },
        {
          "output_type": "stream",
          "name": "stderr",
          "text": [
            "Retrieving folder list completed\n",
            "Building directory structure\n",
            "Downloading...\n",
            "From: https://drive.google.com/uc?id=14aNeNmdjtt6GaPQufODgTwCwfC-MgDOX\n",
            "To: /content/Data/BoostedTop_x1_fixed_0.snappy.parquet\n",
            "100%|██████████| 35.6M/35.6M [00:00<00:00, 239MB/s]\n",
            "Downloading...\n",
            "From: https://drive.google.com/uc?id=1SwHJPdGOQHYIf2HvVQC9dCWHaioiVL-n\n",
            "To: /content/Data/BoostedTop_x1_fixed_1.snappy.parquet\n",
            "100%|██████████| 36.2M/36.2M [00:00<00:00, 195MB/s] \n",
            "Downloading...\n",
            "From: https://drive.google.com/uc?id=1TTLc2DsnPo1c4B2CBRbBHsbgubUlxFow\n",
            "To: /content/Data/BoostedTop_x1_fixed_2.snappy.parquet\n",
            "100%|██████████| 36.5M/36.5M [00:00<00:00, 220MB/s]\n",
            "Downloading...\n",
            "From: https://drive.google.com/uc?id=13JgJs_Nh929I3ILB3XyCq1Yqvlv7PWBT\n",
            "To: /content/Data/BoostedTop_x1_fixed_3.snappy.parquet\n",
            "100%|██████████| 37.6M/37.6M [00:00<00:00, 204MB/s] \n",
            "Downloading...\n",
            "From: https://drive.google.com/uc?id=108hd3WYczbIl2FOpUMz7mVpkR1fIaB6O\n",
            "To: /content/Data/BoostedTop_x1_fixed_4.snappy.parquet\n",
            "100%|██████████| 38.1M/38.1M [00:00<00:00, 224MB/s] \n",
            "Downloading...\n",
            "From: https://drive.google.com/uc?id=1GxfcLaVavsAVYyznPE2N0bEV-xTKXZXf\n",
            "To: /content/Data/BoostedTop_x1_fixed_5.snappy.parquet\n",
            "100%|██████████| 40.5M/40.5M [00:00<00:00, 199MB/s] \n",
            "Downloading...\n",
            "From: https://drive.google.com/uc?id=1NjwpztEKp4E8S2ZmU80BMZjUtECpK0Kg\n",
            "To: /content/Data/BoostedTop_x1_fixed_6.snappy.parquet\n",
            "100%|██████████| 40.8M/40.8M [00:00<00:00, 208MB/s]\n",
            "Downloading...\n",
            "From: https://drive.google.com/uc?id=1eBe3GkPRNV4n6e0Lq_FZoUCOp5bL0nOZ\n",
            "To: /content/Data/BoostedTop_x1_fixed_7.snappy.parquet\n",
            "100%|██████████| 39.9M/39.9M [00:00<00:00, 220MB/s]\n",
            "Downloading...\n",
            "From: https://drive.google.com/uc?id=1P35ZvIhv0E9TJCWemPwY8_gpxKYuji5k\n",
            "To: /content/Data/BoostedTop_x1_fixed_8.snappy.parquet\n",
            "100%|██████████| 40.0M/40.0M [00:00<00:00, 221MB/s]\n",
            "Downloading...\n",
            "From: https://drive.google.com/uc?id=1yrsWwJFoJUfLPtdZRmAnKY8LuAH-VGRR\n",
            "To: /content/Data/BoostedTop_x1_fixed_9.snappy.parquet\n",
            "100%|██████████| 36.7M/36.7M [00:00<00:00, 200MB/s] \n",
            "Download completed\n"
          ]
        },
        {
          "output_type": "execute_result",
          "data": {
            "text/plain": [
              "['/content/Data/BoostedTop_x1_fixed_0.snappy.parquet',\n",
              " '/content/Data/BoostedTop_x1_fixed_1.snappy.parquet',\n",
              " '/content/Data/BoostedTop_x1_fixed_2.snappy.parquet',\n",
              " '/content/Data/BoostedTop_x1_fixed_3.snappy.parquet',\n",
              " '/content/Data/BoostedTop_x1_fixed_4.snappy.parquet',\n",
              " '/content/Data/BoostedTop_x1_fixed_5.snappy.parquet',\n",
              " '/content/Data/BoostedTop_x1_fixed_6.snappy.parquet',\n",
              " '/content/Data/BoostedTop_x1_fixed_7.snappy.parquet',\n",
              " '/content/Data/BoostedTop_x1_fixed_8.snappy.parquet',\n",
              " '/content/Data/BoostedTop_x1_fixed_9.snappy.parquet']"
            ]
          },
          "metadata": {},
          "execution_count": 3
        }
      ]
    },
    {
      "cell_type": "code",
      "source": [
        "%cd ..\n",
        "%mkdir Tfrecords\n",
        "%cd Transformers\n",
        "%cd Data-Generation"
      ],
      "metadata": {
        "colab": {
          "base_uri": "https://localhost:8080/"
        },
        "id": "CH6yN0cmnR-9",
        "outputId": "936db3c6-58c9-4c90-f82c-51e7eea786e7"
      },
      "execution_count": 4,
      "outputs": [
        {
          "output_type": "stream",
          "name": "stdout",
          "text": [
            "/content\n",
            "/content/Transformers\n",
            "/content/Transformers/Data-Generation\n"
          ]
        }
      ]
    },
    {
      "cell_type": "markdown",
      "source": [
        "### Converting the ParquetFiles into TFRecords."
      ],
      "metadata": {
        "id": "LLpaCM_mvOYv"
      }
    },
    {
      "cell_type": "code",
      "source": [
        "import Top_Quark.generator as generator\n",
        "# This code will take some time to run.\n",
        "generator.runner(source = \"/content/Data\", target = \"/content/Tfrecords\")\n"
      ],
      "metadata": {
        "colab": {
          "base_uri": "https://localhost:8080/",
          "height": 104,
          "referenced_widgets": [
            "ac58c87b8ff54f5aab7487045b4298f7",
            "3bcab7027f8541d8be8826fd7c1dfa99",
            "f599fac45a6648299a374dcad683dcc7",
            "ac3455412bf44603ba10619e70dc0f35",
            "e71afb89f2c14441b990dbe4b7eff6f8",
            "78159250806e44df9f673886e3fd80a4",
            "c5853286e787491d8107f006acd7973a",
            "5a6632a59d4b4f7e8e9e045c7037139d",
            "094b2d8a34ed41268d0379412ffd0a4f",
            "9b0917529a324683b186b4ed2b896984",
            "4dab989694734edfa3fcf5e09a38f5ce"
          ]
        },
        "id": "HVg03dp4pH5F",
        "outputId": "2286a7b6-521d-48bf-ee52-0fe07eb84094"
      },
      "execution_count": 5,
      "outputs": [
        {
          "output_type": "stream",
          "name": "stdout",
          "text": [
            "Got the following files in the source folder\n",
            "['/content/Data/BoostedTop_x1_fixed_2.snappy.parquet', '/content/Data/BoostedTop_x1_fixed_7.snappy.parquet', '/content/Data/BoostedTop_x1_fixed_9.snappy.parquet', '/content/Data/BoostedTop_x1_fixed_1.snappy.parquet', '/content/Data/BoostedTop_x1_fixed_5.snappy.parquet', '/content/Data/BoostedTop_x1_fixed_3.snappy.parquet', '/content/Data/BoostedTop_x1_fixed_4.snappy.parquet', '/content/Data/BoostedTop_x1_fixed_6.snappy.parquet', '/content/Data/BoostedTop_x1_fixed_0.snappy.parquet', '/content/Data/BoostedTop_x1_fixed_8.snappy.parquet']\n"
          ]
        },
        {
          "output_type": "display_data",
          "data": {
            "text/plain": [
              "  0%|          | 0/10 [00:00<?, ?it/s]"
            ],
            "application/vnd.jupyter.widget-view+json": {
              "version_major": 2,
              "version_minor": 0,
              "model_id": "ac58c87b8ff54f5aab7487045b4298f7"
            }
          },
          "metadata": {}
        }
      ]
    },
    {
      "cell_type": "markdown",
      "source": [
        "### The TFRecords are generated now they can be used for training."
      ],
      "metadata": {
        "id": "-SUNYjibtpbT"
      }
    }
  ]
}