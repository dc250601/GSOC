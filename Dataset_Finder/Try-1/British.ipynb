{
 "cells": [
  {
   "cell_type": "code",
   "execution_count": 1,
   "id": "8330a8a8",
   "metadata": {},
   "outputs": [],
   "source": [
    "import os\n",
    "import random\n",
    "import shutil"
   ]
  },
  {
   "cell_type": "code",
   "execution_count": null,
   "id": "7b0faeb8",
   "metadata": {},
   "outputs": [],
   "source": [
    "def curzon(parameter):\n",
    "    VALIDATION_SPLIT = 0.2\n",
    "    path_0 = \"./Test/0\"\n",
    "    path_1 = \"./Test/1\"\n",
    "    os.makedirs(f\"./Data_small_{parameter}/Train/0\")\n",
    "    os.makedirs(f\"./Data_small_{parameter}/Train/1\")\n",
    "    os.makedirs(f\"./Data_small_{parameter}/Test/0\")\n",
    "    os.makedirs(f\"./Data_small_{parameter}/Test/1\")\n",
    "\n",
    "    list_image_0 = os.listdir(path_0)\n",
    "    random.shuffle(list_image_0)\n",
    "    british(list_image_0,\"./Test/0/\",\"./Data_small/Train/0/\", \"./Data_small/Test/0/\")\n",
    "\n",
    "    list_image_1 = os.listdir(path_1)\n",
    "    random.shuffle(list_image_1)\n",
    "    british(list_image_1,\"./Test/1/\",\"./Data_small/Train/1/\", \"./Data_small/Test/1/\")"
   ]
  },
  {
   "cell_type": "code",
   "execution_count": 2,
   "id": "651c7fc3",
   "metadata": {},
   "outputs": [],
   "source": [
    "def british(lst, path, new_path_train, new_path_test):\n",
    "    train_length = int(len(lst)*(1-VALIDATION_SPLIT))\n",
    "    for image in lst[:train_length]:\n",
    "        ori_path = path+str(image)\n",
    "        shutil.move(ori_path, (new_path_train+str(image)) )\n",
    "    for image in lst[train_length:]:\n",
    "        ori_path = path+str(image)\n",
    "        shutil.move(ori_path, (new_path_test+str(image)) )"
   ]
  },
  {
   "cell_type": "code",
   "execution_count": 3,
   "id": "086dfccb",
   "metadata": {},
   "outputs": [],
   "source": [
    "list_image_0 = os.listdir(path_0)\n",
    "random.shuffle(list_image_0)\n",
    "british(list_image_0,\"./Test/0/\",\"./Data_small/Train/0/\", \"./Data_small/Test/0/\")\n",
    "\n",
    "list_image_1 = os.listdir(path_1)\n",
    "random.shuffle(list_image_1)\n",
    "british(list_image_1,\"./Test/1/\",\"./Data_small/Train/1/\", \"./Data_small/Test/1/\")"
   ]
  }
 ],
 "metadata": {
  "kernelspec": {
   "display_name": "Python 3 (ipykernel)",
   "language": "python",
   "name": "python3"
  },
  "language_info": {
   "codemirror_mode": {
    "name": "ipython",
    "version": 3
   },
   "file_extension": ".py",
   "mimetype": "text/x-python",
   "name": "python",
   "nbconvert_exporter": "python",
   "pygments_lexer": "ipython3",
   "version": "3.9.13"
  }
 },
 "nbformat": 4,
 "nbformat_minor": 5
}
